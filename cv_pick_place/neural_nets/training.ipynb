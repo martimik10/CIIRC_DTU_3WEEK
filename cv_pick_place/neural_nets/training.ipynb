{
 "cells": [
  {
   "cell_type": "code",
   "execution_count": 37,
   "metadata": {},
   "outputs": [],
   "source": [
    "#built in \n",
    "import os \n",
    "import time \n",
    "import shutil \n",
    "import yaml \n",
    "import json\n",
    "#remote \n",
    "import torch\n",
    "\n",
    "from ultralytics import YOLO\n",
    "\n",
    "\n",
    "#local \n",
    "from dataset.GenerateSyntheticDataset import generate_dataset"
   ]
  },
  {
   "cell_type": "code",
   "execution_count": 38,
   "metadata": {},
   "outputs": [],
   "source": [
    "#default training checks \n",
    "TRAIN = True\n",
    "GENERATE = True \n",
    "\n",
    "\n",
    "#Parameters for  generating  dataset \n",
    "NUMBER_OF_IMAGES =10\n",
    "#segmentation  or detection mode \n",
    "SEG =False \n",
    "#dataset dir \n",
    "SYNTHETIC_DATASET_DIR ='dataset/GeneratedDataset'\n",
    "\n",
    "\n",
    "\n",
    "\n",
    "# Parameters for training \n",
    "EPOCHS  = 2\n",
    "YAML_DATA_PATH = 'data.yaml'"
   ]
  },
  {
   "cell_type": "code",
   "execution_count": 39,
   "metadata": {},
   "outputs": [],
   "source": [
    "\n",
    "\n",
    "def add_class_yaml(path_yaml_file:str,new_value,key)->None:\n",
    "    \"\"\"\n",
    "    ADDS CLASS  TO YAML FILE \n",
    "    \"\"\"\n",
    "    with open(path_yaml_file) as f:\n",
    "            dic =yaml.load(f,yaml.FullLoader)\n",
    "           \n",
    "            if(key in list(dic['names'].keys())):\n",
    "                print(f\"[ERROR] Cant use this key  is already being used {key} \")\n",
    "            else:\n",
    "                dic['names'][key]=new_value\n",
    "            f.close()\n",
    "            file = open(path_yaml_file,'w')\n",
    "            yaml.dump(dic,file)\n",
    "            file.close()\n",
    "           \n",
    "\n"
   ]
  },
  {
   "cell_type": "code",
   "execution_count": 47,
   "metadata": {},
   "outputs": [
    {
     "name": "stdout",
     "output_type": "stream",
     "text": [
      "['brown', 'small-white', 'medium-white', 'large-white', 'banana', 'catfood', 'ketchup', 'mouthwash', 'showergel', 'skittles', 'stainremover', 'toothpaste', 'trex']\n",
      "[7.0, 5.0, 5.0, 7.0, 20.0, 10.0, 40.0, 25.0, 45.0, 30.0, 15.0, 35.0]\n"
     ]
    },
    {
     "ename": "IndexError",
     "evalue": "list index out of range",
     "output_type": "error",
     "traceback": [
      "\u001b[1;31m---------------------------------------------------------------------------\u001b[0m",
      "\u001b[1;31mIndexError\u001b[0m                                Traceback (most recent call last)",
      "Cell \u001b[1;32mIn[47], line 13\u001b[0m\n\u001b[0;32m      8\u001b[0m             res \u001b[38;5;241m=\u001b[39m{dic_yaml[i]: dic_json [i] \u001b[38;5;28;01mfor\u001b[39;00m i \u001b[38;5;129;01min\u001b[39;00m \u001b[38;5;28mrange\u001b[39m(\u001b[38;5;28mlen\u001b[39m(dic_yaml))}\n\u001b[0;32m      9\u001b[0m             \u001b[38;5;28mprint\u001b[39m(res)\n\u001b[1;32m---> 13\u001b[0m \u001b[43mread_depths_display\u001b[49m\u001b[43m(\u001b[49m\u001b[38;5;124;43m\"\u001b[39;49m\u001b[38;5;124;43mC:/Users/Testbed/CIIRC_DTU_3WEEK_NEW/cv_pick_place/config/robot_config.json\u001b[39;49m\u001b[38;5;124;43m\"\u001b[39;49m\u001b[43m,\u001b[49m\u001b[38;5;124;43m\"\u001b[39;49m\u001b[38;5;124;43mC:/Users/Testbed/CIIRC_DTU_3WEEK_NEW/cv_pick_place/neural_nets/data.yaml\u001b[39;49m\u001b[38;5;124;43m\"\u001b[39;49m\u001b[43m)\u001b[49m\n",
      "Cell \u001b[1;32mIn[47], line 8\u001b[0m, in \u001b[0;36mread_depths_display\u001b[1;34m(json_path, yaml_path)\u001b[0m\n\u001b[0;32m      6\u001b[0m \u001b[38;5;28mprint\u001b[39m(dic_yaml)\n\u001b[0;32m      7\u001b[0m \u001b[38;5;28mprint\u001b[39m(dic_json)\n\u001b[1;32m----> 8\u001b[0m res \u001b[38;5;241m=\u001b[39m{dic_yaml[i]: dic_json [i] \u001b[38;5;28;01mfor\u001b[39;00m i \u001b[38;5;129;01min\u001b[39;00m \u001b[38;5;28mrange\u001b[39m(\u001b[38;5;28mlen\u001b[39m(dic_yaml))}\n\u001b[0;32m      9\u001b[0m \u001b[38;5;28mprint\u001b[39m(res)\n",
      "Cell \u001b[1;32mIn[47], line 8\u001b[0m, in \u001b[0;36m<dictcomp>\u001b[1;34m(.0)\u001b[0m\n\u001b[0;32m      6\u001b[0m \u001b[38;5;28mprint\u001b[39m(dic_yaml)\n\u001b[0;32m      7\u001b[0m \u001b[38;5;28mprint\u001b[39m(dic_json)\n\u001b[1;32m----> 8\u001b[0m res \u001b[38;5;241m=\u001b[39m{dic_yaml[i]: \u001b[43mdic_json\u001b[49m\u001b[43m \u001b[49m\u001b[43m[\u001b[49m\u001b[43mi\u001b[49m\u001b[43m]\u001b[49m \u001b[38;5;28;01mfor\u001b[39;00m i \u001b[38;5;129;01min\u001b[39;00m \u001b[38;5;28mrange\u001b[39m(\u001b[38;5;28mlen\u001b[39m(dic_yaml))}\n\u001b[0;32m      9\u001b[0m \u001b[38;5;28mprint\u001b[39m(res)\n",
      "\u001b[1;31mIndexError\u001b[0m: list index out of range"
     ]
    }
   ],
   "source": [
    "\n",
    "\n",
    "\n",
    "def read_depths_display(json_path,yaml_path):\n",
    "    with open(json_path) as json_file:\n",
    "        with open(yaml_path) as yaml_file:\n",
    "            dic_yaml =list(yaml.load(yaml_file,yaml.FullLoader)['names'].values())\n",
    "            dic_json = json.load(json_file)['NN2_object_depths']['default']\n",
    "            print(dic_yaml)\n",
    "            print(dic_json)\n",
    "            res ={dic_yaml[i]: dic_json [i] for i in range(len(dic_yaml))}\n",
    "            print(res)\n",
    "\n",
    "\n",
    "\n",
    "read_depths_display(\"C:/Users/Testbed/CIIRC_DTU_3WEEK_NEW/cv_pick_place/config/robot_config.json\",\"C:/Users/Testbed/CIIRC_DTU_3WEEK_NEW/cv_pick_place/neural_nets/data.yaml\")\n",
    "\n",
    "\n",
    "\n"
   ]
  },
  {
   "cell_type": "code",
   "execution_count": 23,
   "metadata": {},
   "outputs": [
    {
     "name": "stdout",
     "output_type": "stream",
     "text": [
      "Generating training images\n",
      "IMAGE NUMBER 0 IS SAVED\n"
     ]
    },
    {
     "ename": "KeyboardInterrupt",
     "evalue": "",
     "output_type": "error",
     "traceback": [
      "\u001b[1;31m---------------------------------------------------------------------------\u001b[0m",
      "\u001b[1;31mKeyboardInterrupt\u001b[0m                         Traceback (most recent call last)",
      "Cell \u001b[1;32mIn[23], line 4\u001b[0m\n\u001b[0;32m      2\u001b[0m \u001b[38;5;28;01mif\u001b[39;00m(os\u001b[38;5;241m.\u001b[39mpath\u001b[38;5;241m.\u001b[39misdir(SYNTHETIC_DATASET_DIR)):\n\u001b[0;32m      3\u001b[0m     shutil\u001b[38;5;241m.\u001b[39mrmtree(SYNTHETIC_DATASET_DIR)\n\u001b[1;32m----> 4\u001b[0m \u001b[43mgenerate_dataset\u001b[49m\u001b[43m(\u001b[49m\u001b[43mNUMBER_OF_IMAGES\u001b[49m\u001b[43m,\u001b[49m\u001b[43mSEG\u001b[49m\u001b[43m)\u001b[49m\n",
      "File \u001b[1;32mc:\\Users\\Testbed\\CIIRC_DTU_3WEEK_NEW\\cv_pick_place\\neural_nets\\dataset\\GenerateSyntheticDataset.py:523\u001b[0m, in \u001b[0;36mgenerate_dataset\u001b[1;34m(custom_num_images, segmentation, DATASET_DIRECTORY, BACKGROUND_PATH)\u001b[0m\n\u001b[0;32m    520\u001b[0m         object_mask_applied_list\u001b[38;5;241m.\u001b[39mappend(remove_black(reshaped_object_pict \u001b[38;5;241m*\u001b[39m reshaped_object_mask))\n\u001b[0;32m    522\u001b[0m \u001b[38;5;28mprint\u001b[39m(\u001b[38;5;124m'\u001b[39m\u001b[38;5;124mGenerating training images\u001b[39m\u001b[38;5;124m'\u001b[39m)\n\u001b[1;32m--> 523\u001b[0m \u001b[43mgenerate_to_folder\u001b[49m\u001b[43m(\u001b[49m\u001b[38;5;124;43m\"\u001b[39;49m\u001b[38;5;124;43mtrain\u001b[39;49m\u001b[38;5;124;43m\"\u001b[39;49m\u001b[43m,\u001b[49m\u001b[43m \u001b[49m\u001b[43mcustom_num_images\u001b[49m\u001b[43m)\u001b[49m\n\u001b[0;32m    524\u001b[0m \u001b[38;5;28mprint\u001b[39m(\u001b[38;5;124m'\u001b[39m\u001b[38;5;124mGenerating validation images\u001b[39m\u001b[38;5;124m'\u001b[39m)\n\u001b[0;32m    525\u001b[0m generate_to_folder(\u001b[38;5;124m\"\u001b[39m\u001b[38;5;124mval\u001b[39m\u001b[38;5;124m\"\u001b[39m, \u001b[38;5;28mint\u001b[39m(\u001b[38;5;241m0.2\u001b[39m \u001b[38;5;241m*\u001b[39m custom_num_images))\n",
      "File \u001b[1;32mc:\\Users\\Testbed\\CIIRC_DTU_3WEEK_NEW\\cv_pick_place\\neural_nets\\dataset\\GenerateSyntheticDataset.py:456\u001b[0m, in \u001b[0;36mgenerate_dataset.<locals>.generate_to_folder\u001b[1;34m(subdir_name, n_images)\u001b[0m\n\u001b[0;32m    454\u001b[0m os\u001b[38;5;241m.\u001b[39mmkdir(DATASET_DIRECTORY \u001b[38;5;241m+\u001b[39m \u001b[38;5;124m\"\u001b[39m\u001b[38;5;124mlabels/\u001b[39m\u001b[38;5;124m\"\u001b[39m \u001b[38;5;241m+\u001b[39m subdir_name)\n\u001b[0;32m    455\u001b[0m \u001b[38;5;28;01mfor\u001b[39;00m image_num \u001b[38;5;129;01min\u001b[39;00m \u001b[38;5;28mrange\u001b[39m(n_images):\n\u001b[1;32m--> 456\u001b[0m     image, mask, bbox, classes \u001b[38;5;241m=\u001b[39m \u001b[43mgenerate_image\u001b[49m\u001b[43m(\u001b[49m\u001b[43mobject_mask_applied_list\u001b[49m\u001b[43m,\u001b[49m\u001b[43m \u001b[49m\u001b[43mobject_name_list\u001b[49m\u001b[43m,\u001b[49m\u001b[43m \u001b[49m\u001b[43mobject_mask_list\u001b[49m\u001b[43m,\u001b[49m\u001b[43mBACKGROUND_PATH\u001b[49m\u001b[43m)\u001b[49m\n\u001b[0;32m    457\u001b[0m     mask \u001b[38;5;241m=\u001b[39m np\u001b[38;5;241m.\u001b[39marray(mask, dtype\u001b[38;5;241m=\u001b[39m\u001b[38;5;28mbool\u001b[39m)\n\u001b[0;32m    458\u001b[0m     cv2\u001b[38;5;241m.\u001b[39mimwrite(DATASET_DIRECTORY \u001b[38;5;241m+\u001b[39m \u001b[38;5;124m\"\u001b[39m\u001b[38;5;124mimages/\u001b[39m\u001b[38;5;124m\"\u001b[39m \u001b[38;5;241m+\u001b[39m subdir_name \u001b[38;5;241m+\u001b[39m \u001b[38;5;124m\"\u001b[39m\u001b[38;5;124m/image_\u001b[39m\u001b[38;5;132;01m{}\u001b[39;00m\u001b[38;5;124m.png\u001b[39m\u001b[38;5;124m\"\u001b[39m\u001b[38;5;241m.\u001b[39mformat(image_num), image)\n",
      "File \u001b[1;32mc:\\Users\\Testbed\\CIIRC_DTU_3WEEK_NEW\\cv_pick_place\\neural_nets\\dataset\\GenerateSyntheticDataset.py:393\u001b[0m, in \u001b[0;36mgenerate_image\u001b[1;34m(object_mask_applied, object_name_list, object_mask_list, background_path)\u001b[0m\n\u001b[0;32m    390\u001b[0m             basic_background \u001b[38;5;241m=\u001b[39m insert_object(basic_background, rotated_object, x_coord, y_coord)\n\u001b[0;32m    391\u001b[0m             \u001b[38;5;28;01mbreak\u001b[39;00m\n\u001b[1;32m--> 393\u001b[0m object_contour_list \u001b[38;5;241m=\u001b[39m \u001b[43mget_every_object_contour\u001b[49m\u001b[43m(\u001b[49m\u001b[43meach_object_mask\u001b[49m\u001b[43m)\u001b[49m\n\u001b[0;32m    395\u001b[0m image \u001b[38;5;241m=\u001b[39m add_background(basic_background, real_background)\n\u001b[0;32m    396\u001b[0m image \u001b[38;5;241m=\u001b[39m np\u001b[38;5;241m.\u001b[39masarray(image, dtype\u001b[38;5;241m=\u001b[39mnp\u001b[38;5;241m.\u001b[39muint8)\n",
      "File \u001b[1;32mc:\\Users\\Testbed\\CIIRC_DTU_3WEEK_NEW\\cv_pick_place\\neural_nets\\dataset\\GenerateSyntheticDataset.py:149\u001b[0m, in \u001b[0;36mget_every_object_contour\u001b[1;34m(each_object_separately)\u001b[0m\n\u001b[0;32m    145\u001b[0m         lower_object_mask \u001b[38;5;241m*\u001b[39m\u001b[38;5;241m=\u001b[39m mask\n\u001b[0;32m    146\u001b[0m     lower_object_image \u001b[38;5;241m=\u001b[39m \u001b[38;5;241m255\u001b[39m \u001b[38;5;241m-\u001b[39m each_object_separately[object_index_1] \u001b[38;5;241m*\u001b[39m \\\n\u001b[0;32m    147\u001b[0m                          (np\u001b[38;5;241m.\u001b[39mtranspose(np\u001b[38;5;241m.\u001b[39mrepeat(lower_object_mask, [\u001b[38;5;241m3\u001b[39m], axis\u001b[38;5;241m=\u001b[39m\u001b[38;5;241m0\u001b[39m), axes\u001b[38;5;241m=\u001b[39m[\u001b[38;5;241m1\u001b[39m, \u001b[38;5;241m2\u001b[39m, \u001b[38;5;241m0\u001b[39m]))\n\u001b[1;32m--> 149\u001b[0m     contours_to_return\u001b[38;5;241m.\u001b[39mappend(\u001b[43mfind_mask_contours\u001b[49m\u001b[43m(\u001b[49m\u001b[43mlower_object_image\u001b[49m\u001b[43m)\u001b[49m)\n\u001b[0;32m    151\u001b[0m \u001b[38;5;28;01mreturn\u001b[39;00m contours_to_return\n",
      "File \u001b[1;32mc:\\Users\\Testbed\\CIIRC_DTU_3WEEK_NEW\\cv_pick_place\\neural_nets\\dataset\\GenerateSyntheticDataset.py:186\u001b[0m, in \u001b[0;36mfind_mask_contours\u001b[1;34m(mask)\u001b[0m\n\u001b[0;32m    185\u001b[0m \u001b[38;5;28;01mdef\u001b[39;00m \u001b[38;5;21mfind_mask_contours\u001b[39m(mask):\n\u001b[1;32m--> 186\u001b[0m     mask \u001b[38;5;241m=\u001b[39m \u001b[43mnp\u001b[49m\u001b[38;5;241;43m.\u001b[39;49m\u001b[43masarray\u001b[49m\u001b[43m(\u001b[49m\u001b[43mmask\u001b[49m\u001b[43m,\u001b[49m\u001b[43m \u001b[49m\u001b[43mdtype\u001b[49m\u001b[38;5;241;43m=\u001b[39;49m\u001b[43mnp\u001b[49m\u001b[38;5;241;43m.\u001b[39;49m\u001b[43muint8\u001b[49m\u001b[43m)\u001b[49m\n\u001b[0;32m    187\u001b[0m     mask \u001b[38;5;241m=\u001b[39m np\u001b[38;5;241m.\u001b[39masarray(cv2\u001b[38;5;241m.\u001b[39mcvtColor(mask, cv2\u001b[38;5;241m.\u001b[39mCOLOR_RGB2GRAY), dtype\u001b[38;5;241m=\u001b[39mnp\u001b[38;5;241m.\u001b[39muint8)\n\u001b[0;32m    189\u001b[0m     ret, mask \u001b[38;5;241m=\u001b[39m cv2\u001b[38;5;241m.\u001b[39mthreshold(mask, \u001b[38;5;241m0\u001b[39m, \u001b[38;5;241m255\u001b[39m, cv2\u001b[38;5;241m.\u001b[39mTHRESH_OTSU \u001b[38;5;241m+\u001b[39m cv2\u001b[38;5;241m.\u001b[39mTHRESH_BINARY_INV)\n",
      "\u001b[1;31mKeyboardInterrupt\u001b[0m: "
     ]
    }
   ],
   "source": [
    "if (GENERATE == True ):\n",
    "    if(os.path.isdir(SYNTHETIC_DATASET_DIR)):\n",
    "        shutil.rmtree(SYNTHETIC_DATASET_DIR)\n",
    "    generate_dataset(NUMBER_OF_IMAGES,SEG)\n",
    "    "
   ]
  },
  {
   "cell_type": "code",
   "execution_count": null,
   "metadata": {},
   "outputs": [],
   "source": [
    "def train(model_path,seg =True)->None:\n",
    "    \n",
    "    \n",
    "    if(seg==False):\n",
    "              # use 'yolov8n.pt' to start fresh\n",
    "            try:\n",
    "                model = YOLO(model_path)\n",
    "            except FileNotFoundError:\n",
    "                print(\"Model not found, retraining from scratch with YoloV8n\")\n",
    "                model = YOLO('yolov8n.pt',task='detect')\n",
    "    if(seg == True):\n",
    "            \n",
    "            try:\n",
    "                model = YOLO(model_path)\n",
    "            except FileNotFoundError:\n",
    "                print(\"Model not found, retraining from scratch with YoloV8n\")\n",
    "                model = YOLO('yolov8n-seg.pt',task= 'segment')\n",
    "\n",
    "     #check if using cuda\n",
    "    if torch.cuda.is_available():\n",
    "        print(\"Using GPU\")\n",
    "        model.cuda()\n",
    "            \n",
    "        \n",
    "    start = time.time()\n",
    "       \n",
    "        # if(seg == True ):\n",
    "        #     results = model.train(data=YAML_DATA_PATH , epochs=EPOCHS)\n",
    "        # else:\n",
    "        #      results = model.train(data=YAML_DATA_PATH , epochs=EPOCHS)\n",
    "    results =model.train(data=YAML_DATA_PATH , epochs=EPOCHS)\n",
    "       \n",
    "    end = time.time()\n",
    "        \n",
    "       \n",
    "    print(\"Training finished\")\n",
    "    val_metrics = model.val()\n",
    "    val_metrics"
   ]
  },
  {
   "cell_type": "code",
   "execution_count": null,
   "metadata": {},
   "outputs": [],
   "source": [
    "%load_ext tensorboard\n",
    "%tensorboard --logdir runs/"
   ]
  },
  {
   "cell_type": "code",
   "execution_count": null,
   "metadata": {},
   "outputs": [],
   "source": [
    "if(TRAIN ==True): \n",
    "    #can be any path\n",
    "    train('runs/detect/train/weights/best.pt',seg=SEG)"
   ]
  }
 ],
 "metadata": {
  "kernelspec": {
   "display_name": "Python 3",
   "language": "python",
   "name": "python3"
  },
  "language_info": {
   "codemirror_mode": {
    "name": "ipython",
    "version": 3
   },
   "file_extension": ".py",
   "mimetype": "text/x-python",
   "name": "python",
   "nbconvert_exporter": "python",
   "pygments_lexer": "ipython3",
   "version": "3.10.0"
  }
 },
 "nbformat": 4,
 "nbformat_minor": 2
}
