{
 "cells": [
  {
   "cell_type": "code",
   "execution_count": 1,
   "metadata": {},
   "outputs": [],
   "source": [
    "#built in \n",
    "import os \n",
    "import time \n",
    "import shutil \n",
    "import yaml \n",
    "import json\n",
    "#remote \n",
    "import torch\n",
    "\n",
    "from ultralytics import YOLO\n",
    "\n",
    "\n",
    "#local \n",
    "from dataset.GenerateSyntheticDataset import generate_dataset"
   ]
  },
  {
   "cell_type": "code",
   "execution_count": 2,
   "metadata": {},
   "outputs": [],
   "source": [
    "#default training checks \n",
    "TRAIN = True\n",
    "GENERATE = True \n",
    "\n",
    "\n",
    "#Parameters for  generating  dataset \n",
    "NUMBER_OF_IMAGES =10\n",
    "#segmentation  or detection mode \n",
    "SEG =False \n",
    "#dataset dir \n",
    "SYNTHETIC_DATASET_DIR ='dataset/GeneratedDataset'\n",
    "\n",
    "\n",
    "\n",
    "\n",
    "# Parameters for training \n",
    "EPOCHS  = 2\n",
    "YAML_DATA_PATH = 'data.yaml'"
   ]
  },
  {
   "cell_type": "code",
   "execution_count": 5,
   "metadata": {},
   "outputs": [],
   "source": [
    "\n",
    "\n",
    "def add_class(path_yaml_file:str,item,key,json_path,depth)->None:\n",
    "    \"\"\"\n",
    "    ADDS CLASS  TO YAML FILE and json file depth for class \n",
    "    \"\"\"\n",
    "    with open(path_yaml_file) as f:\n",
    "            dic =yaml.load(f,yaml.FullLoader)\n",
    "           \n",
    "            if(key in list(dic['names'].keys())):\n",
    "                print(f\"[ERROR] Cant use this key  is already being used {key} \")\n",
    "            else:\n",
    "                dic['names'][key]=item\n",
    "            f.close()\n",
    "            file = open(path_yaml_file,'w')\n",
    "            yaml.dump(dic,file)\n",
    "            file.close()\n",
    "    with open(json_path) as json_file:\n",
    "        dic_json= json.load(json_file)\n",
    "        json_file.close()\n",
    "        depth_list=dic_json['NN2_object_depths']['default']\n",
    "        depth_list.append(depth)\n",
    "        dic_json['NN2_object_depths']['default']= depth_list\n",
    "        print( dic_json)\n",
    "        file = open('robot_config.json','w')\n",
    "        json.dump(dic_json,file)\n",
    "        file.close()\n",
    "           \n",
    "\n"
   ]
  },
  {
   "cell_type": "code",
   "execution_count": null,
   "metadata": {},
   "outputs": [],
   "source": [
    "\n",
    "\n",
    "\n",
    "def read_depths_display(json_path,yaml_path):\n",
    "    with open(json_path) as json_file:\n",
    "        with open(yaml_path) as yaml_file:\n",
    "            dic_yaml =list(yaml.load(yaml_file,yaml.FullLoader)['names'].values())\n",
    "            dic_json = json.load(json_file)['NN2_object_depths']['default']\n",
    "            if(len(dic_json)!=len(dic_yaml)):\n",
    "                print(f\"[ERROR]  not same lenngh {len(dic_yaml)} != {len(dic_json)}\")\n",
    "                return \n",
    "            res ={dic_yaml[i]: dic_json [i] for i in range(len(dic_yaml))}\n",
    "            print(res)\n",
    "\n",
    "\n",
    "\n",
    "read_depths_display(\"C:/Users/Testbed/CIIRC_DTU_3WEEK_NEW/cv_pick_place/config/robot_config.json\",\"C:/Users/Testbed/CIIRC_DTU_3WEEK_NEW/cv_pick_place/neural_nets/data.yaml\")\n",
    "\n",
    "\n",
    "\n"
   ]
  },
  {
   "cell_type": "code",
   "execution_count": null,
   "metadata": {},
   "outputs": [],
   "source": [
    "if (GENERATE == True ):\n",
    "    if(os.path.isdir(SYNTHETIC_DATASET_DIR)):\n",
    "        shutil.rmtree(SYNTHETIC_DATASET_DIR)\n",
    "    generate_dataset(NUMBER_OF_IMAGES,SEG)\n",
    "    "
   ]
  },
  {
   "cell_type": "code",
   "execution_count": null,
   "metadata": {},
   "outputs": [],
   "source": [
    "def train(model_path,seg =True)->None:\n",
    "    \n",
    "    \n",
    "    if(seg==False):\n",
    "              # use 'yolov8n.pt' to start fresh\n",
    "            try:\n",
    "                model = YOLO(model_path)\n",
    "            except FileNotFoundError:\n",
    "                print(\"Model not found, retraining from scratch with YoloV8n\")\n",
    "                model = YOLO('yolov8n.pt',task='detect')\n",
    "    if(seg == True):\n",
    "            \n",
    "            try:\n",
    "                model = YOLO(model_path)\n",
    "            except FileNotFoundError:\n",
    "                print(\"Model not found, retraining from scratch with YoloV8n\")\n",
    "                model = YOLO('yolov8n-seg.pt',task= 'segment')\n",
    "\n",
    "     #check if using cuda\n",
    "    if torch.cuda.is_available():\n",
    "        print(\"Using GPU\")\n",
    "        model.cuda()\n",
    "            \n",
    "        \n",
    "    start = time.time()\n",
    "       \n",
    "        # if(seg == True ):\n",
    "        #     results = model.train(data=YAML_DATA_PATH , epochs=EPOCHS)\n",
    "        # else:\n",
    "        #      results = model.train(data=YAML_DATA_PATH , epochs=EPOCHS)\n",
    "    results =model.train(data=YAML_DATA_PATH , epochs=EPOCHS)\n",
    "       \n",
    "    end = time.time()\n",
    "        \n",
    "       \n",
    "    print(\"Training finished\")\n",
    "    val_metrics = model.val()\n",
    "    val_metrics"
   ]
  },
  {
   "cell_type": "code",
   "execution_count": null,
   "metadata": {},
   "outputs": [],
   "source": [
    "%load_ext tensorboard\n",
    "%tensorboard --logdir runs/"
   ]
  },
  {
   "cell_type": "code",
   "execution_count": null,
   "metadata": {},
   "outputs": [],
   "source": [
    "if(TRAIN ==True): \n",
    "    #can be any path\n",
    "    train('runs/detect/train/weights/best.pt',seg=SEG)"
   ]
  }
 ],
 "metadata": {
  "kernelspec": {
   "display_name": "Python 3",
   "language": "python",
   "name": "python3"
  },
  "language_info": {
   "codemirror_mode": {
    "name": "ipython",
    "version": 3
   },
   "file_extension": ".py",
   "mimetype": "text/x-python",
   "name": "python",
   "nbconvert_exporter": "python",
   "pygments_lexer": "ipython3",
   "version": "3.10.0"
  }
 },
 "nbformat": 4,
 "nbformat_minor": 2
}
